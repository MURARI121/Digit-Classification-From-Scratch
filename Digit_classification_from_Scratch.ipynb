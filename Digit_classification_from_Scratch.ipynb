{
 "cells": [
  {
   "cell_type": "code",
   "execution_count": 1,
   "id": "fa6b2269",
   "metadata": {},
   "outputs": [],
   "source": [
    "import numpy as np\n",
    "import pandas as pd\n",
    "from sklearn.metrics import accuracy_score\n",
    "from sklearn.metrics import confusion_matrix\n",
    "from sklearn.metrics import classification_report\n",
    "import matplotlib.pyplot as plt\n",
    "%matplotlib inline"
   ]
  },
  {
   "cell_type": "code",
   "execution_count": 2,
   "id": "230ebee2",
   "metadata": {},
   "outputs": [],
   "source": [
    "# Load MNIST dataset from tensorflow module\n",
    "\n",
    "import tensorflow as tf\n",
    "mnist = tf.keras.datasets.mnist\n",
    "(x_train, y_train), (x_test, y_test) = mnist.load_data()\n",
    "x_train, x_test = x_train / 255.0, x_test / 255.0"
   ]
  },
  {
   "cell_type": "code",
   "execution_count": 3,
   "id": "b8feba51",
   "metadata": {},
   "outputs": [
    {
     "data": {
      "image/png": "[encoded data removed]",
      "text/plain": [
       "<Figure size 720x720 with 25 Axes>"
      ]
     },
     "metadata": {},
     "output_type": "display_data"
    }
   ],
   "source": [
    "# plot images of the dataset\n",
    "\n",
    "plt.figure(figsize=(10,10))\n",
    "for i in range(25):\n",
    "    plt.subplot(5,5,i+1)\n",
    "    plt.xticks([])\n",
    "    plt.yticks([])\n",
    "    plt.grid(False)\n",
    "    plt.imshow(x_train[i], cmap=plt.cm.binary)\n",
    "    plt.xlabel(y_train[i])\n",
    "plt.show()"
   ]
  },
  {
   "cell_type": "code",
   "execution_count": 4,
   "id": "78d3c35b",
   "metadata": {},
   "outputs": [],
   "source": [
    "# reshape/flatten the dataset \n",
    "x_train = x_train.reshape(x_train.shape[0],x_train.shape[1]*x_train.shape[2])\n",
    "x_test = x_test.reshape(x_test.shape[0] ,x_test.shape[1]*x_test.shape[2])"
   ]
  },
  {
   "cell_type": "code",
   "execution_count": 5,
   "id": "edfa00e5",
   "metadata": {},
   "outputs": [
    {
     "data": {
      "text/plain": [
       "(60000, 784)"
      ]
     },
     "execution_count": 5,
     "metadata": {},
     "output_type": "execute_result"
    }
   ],
   "source": [
    "x_train.shape"
   ]
  },
  {
   "cell_type": "code",
   "execution_count": 6,
   "id": "baed7605",
   "metadata": {},
   "outputs": [
    {
     "data": {
      "text/plain": [
       "(60000,)"
      ]
     },
     "execution_count": 6,
     "metadata": {},
     "output_type": "execute_result"
    }
   ],
   "source": [
    "y_train.shape"
   ]
  },
  {
   "cell_type": "code",
   "execution_count": 7,
   "id": "5d6d03af",
   "metadata": {},
   "outputs": [
    {
     "data": {
      "text/plain": [
       "(60000, 10)"
      ]
     },
     "execution_count": 7,
     "metadata": {},
     "output_type": "execute_result"
    }
   ],
   "source": [
    "# Convert the label from integer to one hot matrix\n",
    "y_train = np.eye(10)[y_train]\n",
    "y_train.shape"
   ]
  },
  {
   "cell_type": "code",
   "execution_count": 8,
   "id": "93724a71",
   "metadata": {},
   "outputs": [
    {
     "data": {
      "text/plain": [
       "(10000, 10)"
      ]
     },
     "execution_count": 8,
     "metadata": {},
     "output_type": "execute_result"
    }
   ],
   "source": [
    "y_test = np.eye(10)[y_test]\n",
    "y_test.shape"
   ]
  },
  {
   "cell_type": "code",
   "execution_count": 9,
   "id": "00edd3da",
   "metadata": {},
   "outputs": [],
   "source": [
    "# Implementing sigmoid activation function\n",
    "def sigmoid(x):\n",
    "    s=1/(1+np.exp(-x))\n",
    "    return s"
   ]
  },
  {
   "cell_type": "code",
   "execution_count": 10,
   "id": "c4edcbe0",
   "metadata": {},
   "outputs": [],
   "source": [
    "# Implementing derivation of sigmoid activation function\n",
    "def sigmoid_der(x):\n",
    "    s=1/(1+np.exp(-x))\n",
    "    ds=s*(1-s)  \n",
    "    return ds"
   ]
  },
  {
   "cell_type": "code",
   "execution_count": 11,
   "id": "319962fe",
   "metadata": {},
   "outputs": [],
   "source": [
    "# calculate the softmax of a vector\n",
    "def softmax(v):\n",
    "    max = np.max(v,axis=1,keepdims=True)\n",
    "    e = np.exp(v-max)\n",
    "    f = e / np.sum(e,axis=1,keepdims=True)\n",
    "    return f"
   ]
  },
  {
   "cell_type": "code",
   "execution_count": 12,
   "id": "51601493",
   "metadata": {},
   "outputs": [],
   "source": [
    "# Implementing derivation of softmax activation function\n",
    "\n",
    "def softmax_der(vector):\n",
    "    v=softmax(vector)\n",
    "    return v*(1-v)\n",
    "    "
   ]
  },
  {
   "cell_type": "code",
   "execution_count": 13,
   "id": "051d863f",
   "metadata": {},
   "outputs": [],
   "source": [
    "# Predicting the result of the model on test dataset\n",
    "def predict(x_test,w1,w2,b1,b2):\n",
    "    z1=np.dot(x_test,w1)+b1\n",
    "    a1=sigmoid(z1)\n",
    "    z2=np.dot(a1,w2)+b2\n",
    "    a2=softmax(z2)\n",
    "    \n",
    "    return a2"
   ]
  },
  {
   "cell_type": "code",
   "execution_count": 14,
   "id": "1cbf7b40",
   "metadata": {},
   "outputs": [],
   "source": [
    "# Implement Gradient descent with momentum\n",
    "def optimizer(w,change,dw):\n",
    "    new_change = lr * dw + momentum * change\n",
    "    w = w - new_change\n",
    "    return w,new_change"
   ]
  },
  {
   "cell_type": "code",
   "execution_count": 15,
   "id": "8c064d14",
   "metadata": {},
   "outputs": [],
   "source": [
    "# Implemented Categorical cross entropy loss \n",
    "def cross_entropy(y_true,y_pred):\n",
    "    loss=0.0\n",
    "    l= len(y_true)\n",
    "    \n",
    "    loss = (np.sum(-y_true * np.log(y_pred))/l)\n",
    "    \n",
    "    return loss"
   ]
  },
  {
   "cell_type": "code",
   "execution_count": 16,
   "id": "f3d8433e",
   "metadata": {},
   "outputs": [],
   "source": [
    "# Calculated Accuracy of the result\n",
    "def accuracy(y_true,y_pred):\n",
    "    acc=0.0\n",
    "    l= len(y_true)\n",
    "    y_pred = y_pred.round()\n",
    "    y_true = y_true.round()\n",
    "    \n",
    "    acc =(np.sum(y_true * y_pred)/l)\n",
    "    return acc"
   ]
  },
  {
   "cell_type": "code",
   "execution_count": 17,
   "id": "200f542a",
   "metadata": {},
   "outputs": [],
   "source": [
    "def train(x_train,y_train,epochs,nlayer,loss):\n",
    "    \n",
    "    # Initializing the weight of the model( 2 layer neural network)\n",
    "    l=x_train.shape\n",
    "    w1=np.random.rand(l[1],nlayer)-0.5\n",
    "    w2=np.random.rand(nlayer,10)-0.5\n",
    "    b1=np.random.rand(1,nlayer)\n",
    "    b2=np.random.rand(1,10)\n",
    "    \n",
    "    # save the changes required for momentum in gradient descent\n",
    "    w1_change = 0.0\n",
    "    w2_change =0.0\n",
    "    b1_change = 0.0\n",
    "    b2_change=0.0\n",
    "    \n",
    "    \n",
    "    for i in range(epochs):        \n",
    "            \n",
    "        #Forward propagation of the model    \n",
    "        z1=np.dot(x_train,w1)+b1\n",
    "        a1=sigmoid(z1)\n",
    "        z2=np.dot(a1,w2)+b2\n",
    "        a2=softmax(z2)\n",
    "        \n",
    "        #Backward propagation of the model \n",
    "        dz2 = a2-y_train\n",
    "        dw2 = np.dot(a1.T,dz2)/l[0]\n",
    "        db2 = np.sum(dz2,axis=0,keepdims=True)/l[0]\n",
    "        dz1 = np.dot(dz2,w2.T)*sigmoid_der(z1)\n",
    "        dw1 = np.dot(x_train.T,dz1)/l[0]\n",
    "        db1 = np.sum(dz1,axis=0,keepdims=True)/l[0]\n",
    "        \n",
    "        #Gradient Descent with momentum Optimizer to update weights of the model\n",
    "        w1,w1_change = optimizer(w1,w1_change,dw1)\n",
    "        w2,w2_change = optimizer(w2,w2_change,dw2)\n",
    "        b1,b1_change = optimizer(b1,b1_change,db1)\n",
    "        b2,b2_change = optimizer(b2,b2_change,db2)\n",
    "        \n",
    "        \n",
    "        # Calculate loss on the train and test dataset\n",
    "        train_loss = cross_entropy(y_train,a2)\n",
    "        y_pred = predict(x_test,w1,w2,b1,b2)\n",
    "        test_loss = cross_entropy(y_test,y_pred)\n",
    "        \n",
    "        # Calculate accuracy on the train and test dataset\n",
    "        train_acc=accuracy(y_train,a2)\n",
    "        test_acc =accuracy(y_test,y_pred)\n",
    "        \n",
    "        loss[0].append(train_loss)\n",
    "        loss[1].append(test_loss)\n",
    "        print(\"epoch {} :  Training loss = {:.7} Testing loss = {:.7} Training accuracy = {:.5} Testing accucracy = {:.5}\"\n",
    "              .format(i+1,train_loss,test_loss,train_acc,test_acc))\n",
    "    \n",
    "    return w1,w2,b1,b2"
   ]
  },
  {
   "cell_type": "code",
   "execution_count": 18,
   "id": "f74a05d1",
   "metadata": {},
   "outputs": [
    {
     "name": "stdout",
     "output_type": "stream",
     "text": [
      "epoch 1 :  Training loss = 3.821471 Testing loss = 5.136602 Training accuracy = 0.083233 Testing accucracy = 0.0263\n",
      "epoch 2 :  Training loss = 5.177278 Testing loss = 7.507431 Training accuracy = 0.027717 Testing accucracy = 0.1035\n",
      "epoch 3 :  Training loss = 7.552172 Testing loss = 8.88075 Training accuracy = 0.10275 Testing accucracy = 0.2202\n",
      "epoch 4 :  Training loss = 8.888936 Testing loss = 8.647319 Training accuracy = 0.22173 Testing accucracy = 0.2932\n",
      "epoch 5 :  Training loss = 8.669685 Testing loss = 6.204666 Training accuracy = 0.28815 Testing accucracy = 0.2541\n",
      "epoch 6 :  Training loss = 6.279373 Testing loss = 3.385749 Training accuracy = 0.24465 Testing accucracy = 0.2878\n",
      "epoch 7 :  Training loss = 3.422003 Testing loss = 2.790407 Training accuracy = 0.29097 Testing accucracy = 0.2632\n",
      "epoch 8 :  Training loss = 2.794373 Testing loss = 2.10805 Training accuracy = 0.26783 Testing accucracy = 0.2367\n",
      "epoch 9 :  Training loss = 2.108812 Testing loss = 1.749254 Training accuracy = 0.23588 Testing accucracy = 0.1502\n",
      "epoch 10 :  Training loss = 1.754997 Testing loss = 1.678072 Training accuracy = 0.15333 Testing accucracy = 0.1265\n",
      "epoch 11 :  Training loss = 1.684209 Testing loss = 1.589751 Training accuracy = 0.12582 Testing accucracy = 0.1501\n",
      "epoch 12 :  Training loss = 1.598422 Testing loss = 1.452584 Training accuracy = 0.14868 Testing accucracy = 0.1856\n",
      "epoch 13 :  Training loss = 1.463825 Testing loss = 1.279568 Training accuracy = 0.18267 Testing accucracy = 0.2291\n",
      "epoch 14 :  Training loss = 1.290819 Testing loss = 1.116393 Training accuracy = 0.2256 Testing accucracy = 0.3148\n",
      "epoch 15 :  Training loss = 1.126473 Testing loss = 1.000937 Training accuracy = 0.30615 Testing accucracy = 0.428\n",
      "epoch 16 :  Training loss = 1.011486 Testing loss = 0.9191459 Training accuracy = 0.42103 Testing accucracy = 0.4976\n",
      "epoch 17 :  Training loss = 0.9325454 Testing loss = 0.850814 Training accuracy = 0.49262 Testing accucracy = 0.5524\n",
      "epoch 18 :  Training loss = 0.8649642 Testing loss = 0.789166 Training accuracy = 0.55093 Testing accucracy = 0.6185\n",
      "epoch 19 :  Training loss = 0.8032928 Testing loss = 0.7382445 Training accuracy = 0.61277 Testing accucracy = 0.6631\n",
      "epoch 20 :  Training loss = 0.7512066 Testing loss = 0.6996393 Training accuracy = 0.65382 Testing accucracy = 0.6909\n",
      "epoch 21 :  Training loss = 0.7098281 Testing loss = 0.6675398 Training accuracy = 0.68315 Testing accucracy = 0.7158\n",
      "epoch 22 :  Training loss = 0.6752458 Testing loss = 0.6357572 Training accuracy = 0.71082 Testing accucracy = 0.7429\n",
      "epoch 23 :  Training loss = 0.6418777 Testing loss = 0.6052036 Training accuracy = 0.73857 Testing accucracy = 0.7697\n",
      "epoch 24 :  Training loss = 0.609886 Testing loss = 0.5786721 Training accuracy = 0.76307 Testing accucracy = 0.7857\n",
      "epoch 25 :  Training loss = 0.5811617 Testing loss = 0.5565185 Training accuracy = 0.78297 Testing accucracy = 0.801\n",
      "epoch 26 :  Training loss = 0.5562328 Testing loss = 0.539748 Training accuracy = 0.79762 Testing accucracy = 0.8093\n",
      "epoch 27 :  Training loss = 0.5373081 Testing loss = 0.5273838 Training accuracy = 0.80795 Testing accucracy = 0.8162\n",
      "epoch 28 :  Training loss = 0.5242476 Testing loss = 0.5136499 Training accuracy = 0.81413 Testing accucracy = 0.8239\n",
      "epoch 29 :  Training loss = 0.5111285 Testing loss = 0.4948389 Training accuracy = 0.82045 Testing accucracy = 0.8317\n",
      "epoch 30 :  Training loss = 0.4935097 Testing loss = 0.4749331 Training accuracy = 0.82768 Testing accucracy = 0.8383\n",
      "epoch 31 :  Training loss = 0.4747945 Testing loss = 0.4595748 Training accuracy = 0.83578 Testing accucracy = 0.842\n",
      "epoch 32 :  Training loss = 0.4604138 Testing loss = 0.4493352 Training accuracy = 0.84117 Testing accucracy = 0.8468\n",
      "epoch 33 :  Training loss = 0.4507798 Testing loss = 0.4410027 Training accuracy = 0.845 Testing accucracy = 0.8488\n",
      "epoch 34 :  Training loss = 0.4426096 Testing loss = 0.4320559 Training accuracy = 0.84798 Testing accucracy = 0.8534\n",
      "epoch 35 :  Training loss = 0.4335173 Testing loss = 0.422327 Training accuracy = 0.85148 Testing accucracy = 0.8556\n",
      "epoch 36 :  Training loss = 0.4234946 Testing loss = 0.412559 Training accuracy = 0.85597 Testing accucracy = 0.8595\n",
      "epoch 37 :  Training loss = 0.4133956 Testing loss = 0.4031014 Training accuracy = 0.85928 Testing accucracy = 0.8636\n",
      "epoch 38 :  Training loss = 0.4037044 Testing loss = 0.3940249 Training accuracy = 0.86303 Testing accucracy = 0.8669\n",
      "epoch 39 :  Training loss = 0.3945928 Testing loss = 0.3854414 Training accuracy = 0.86623 Testing accucracy = 0.8709\n",
      "epoch 40 :  Training loss = 0.386187 Testing loss = 0.3774659 Training accuracy = 0.86882 Testing accucracy = 0.8724\n",
      "epoch 41 :  Training loss = 0.3785417 Testing loss = 0.370066 Training accuracy = 0.8719 Testing accucracy = 0.8736\n",
      "epoch 42 :  Training loss = 0.3715249 Testing loss = 0.3631147 Training accuracy = 0.87423 Testing accucracy = 0.8762\n",
      "epoch 43 :  Training loss = 0.3649168 Testing loss = 0.3565924 Training accuracy = 0.87635 Testing accucracy = 0.8793\n",
      "epoch 44 :  Training loss = 0.3586526 Testing loss = 0.3505666 Training accuracy = 0.87875 Testing accucracy = 0.8814\n",
      "epoch 45 :  Training loss = 0.3527963 Testing loss = 0.3449597 Training accuracy = 0.88062 Testing accucracy = 0.8826\n",
      "epoch 46 :  Training loss = 0.3472775 Testing loss = 0.3395705 Training accuracy = 0.88255 Testing accucracy = 0.885\n",
      "epoch 47 :  Training loss = 0.3418956 Testing loss = 0.3343845 Training accuracy = 0.88437 Testing accucracy = 0.8878\n",
      "epoch 48 :  Training loss = 0.3366318 Testing loss = 0.329621 Training accuracy = 0.8861 Testing accucracy = 0.8903\n",
      "epoch 49 :  Training loss = 0.3317074 Testing loss = 0.3254012 Training accuracy = 0.88765 Testing accucracy = 0.8918\n",
      "epoch 50 :  Training loss = 0.3272531 Testing loss = 0.3215682 Training accuracy = 0.88953 Testing accucracy = 0.8938\n"
     ]
    }
   ],
   "source": [
    "loss=[[],[]]\n",
    "momentum =0.9\n",
    "lr=1\n",
    "w1,w2,b1,b2 = train(x_train,y_train,50,128,loss)"
   ]
  },
  {
   "cell_type": "code",
   "execution_count": 19,
   "id": "88175f15",
   "metadata": {},
   "outputs": [
    {
     "data": {
      "image/png": "[encoded data removed]",
      "text/plain": [
       "<Figure size 432x288 with 1 Axes>"
      ]
     },
     "metadata": {
      "needs_background": "light"
     },
     "output_type": "display_data"
    }
   ],
   "source": [
    "#plot the training and validation loss on the train dataset\n",
    "from matplotlib import pyplot\n",
    "pyplot.title('Learning Curves')\n",
    "pyplot.xlabel('Epoch')\n",
    "pyplot.ylabel('Cross Entropy')\n",
    "pyplot.plot(loss[0], label='train')\n",
    "pyplot.plot(loss[1], label='val')\n",
    "pyplot.legend()\n",
    "pyplot.show()"
   ]
  },
  {
   "cell_type": "code",
   "execution_count": 20,
   "id": "ddac60d2",
   "metadata": {},
   "outputs": [
    {
     "name": "stdout",
     "output_type": "stream",
     "text": [
      "              precision    recall  f1-score   support\n",
      "\n",
      "           0       0.94      0.97      0.95       980\n",
      "           1       0.98      0.98      0.98      1135\n",
      "           2       0.89      0.90      0.89      1032\n",
      "           3       0.87      0.90      0.89      1010\n",
      "           4       0.91      0.91      0.91       982\n",
      "           5       0.89      0.83      0.86       892\n",
      "           6       0.93      0.93      0.93       958\n",
      "           7       0.93      0.91      0.92      1028\n",
      "           8       0.86      0.86      0.86       974\n",
      "           9       0.88      0.88      0.88      1009\n",
      "\n",
      "    accuracy                           0.91     10000\n",
      "   macro avg       0.91      0.91      0.91     10000\n",
      "weighted avg       0.91      0.91      0.91     10000\n",
      "\n"
     ]
    }
   ],
   "source": [
    "y_pred = predict(x_test,w1,w2,b1,b2)\n",
    "matrix = classification_report(y_test.argmax(axis=1), y_pred.argmax(axis=1))\n",
    "print(matrix)"
   ]
  },
  {
   "cell_type": "markdown",
   "id": "94702c52",
   "metadata": {},
   "source": [
    "### Save the weights of the model"
   ]
  },
  {
   "cell_type": "code",
   "execution_count": 21,
   "id": "3c7a834a",
   "metadata": {},
   "outputs": [],
   "source": [
    "weight =[w1,w2,b1,b2]\n",
    "import pickle\n",
    "\n",
    "with open('weight_file', 'wb') as fp:\n",
    "    pickle.dump(weight, fp)"
   ]
  },
  {
   "cell_type": "code",
   "execution_count": 22,
   "id": "9aa0fb81",
   "metadata": {},
   "outputs": [],
   "source": [
    "with open ('weight_file', 'rb') as fp:\n",
    "    weight = pickle.load(fp)"
   ]
  },
  {
   "cell_type": "code",
   "execution_count": 23,
   "id": "44164d82",
   "metadata": {},
   "outputs": [
    {
     "name": "stdout",
     "output_type": "stream",
     "text": [
      "True result is 1    Predicted Result is 1\n"
     ]
    }
   ],
   "source": [
    "# Check on the random dataset\n",
    "test = x_test[5]\n",
    "label = y_test[5]\n",
    "pred = predict(test,weight[0],weight[1],weight[2],weight[3])\n",
    "print(\"True result is {}    Predicted Result is {}\".format(np.argmax(label),np.argmax(pred)))"
   ]
  },
  {
   "cell_type": "code",
   "execution_count": null,
   "id": "be4bca15",
   "metadata": {},
   "outputs": [],
   "source": []
  }
 ],
 "metadata": {
  "kernelspec": {
   "display_name": "Python 3",
   "language": "python",
   "name": "python3"
  },
  "language_info": {
   "codemirror_mode": {
    "name": "ipython",
    "version": 3
   },
   "file_extension": ".py",
   "mimetype": "text/x-python",
   "name": "python",
   "nbconvert_exporter": "python",
   "pygments_lexer": "ipython3",
   "version": "3.8.8"
  }
 },
 "nbformat": 4,
 "nbformat_minor": 5
}
